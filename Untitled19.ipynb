{
  "cells": [
    {
      "cell_type": "code",
      "execution_count": null,
      "metadata": {
        "colab": {
          "background_save": true,
          "base_uri": "https://localhost:8080/"
        },
        "id": "bsKiRGAtDieZ",
        "outputId": "d49bba01-9565-4638-c4b2-c44049be2f5d"
      },
      "outputs": [
        {
          "output_type": "stream",
          "name": "stdout",
          "text": [
            "Welcome to the Online Shopping Assistant! How can I help you today?\n",
            "You: h\n",
            "Assistant: I'm sorry, I didn't understand that. Can you please rephrase?\n"
          ]
        }
      ],
      "source": [
        "import random\n",
        "\n",
        "class ConversationalShoppingAssistant:\n",
        "    def __init__(self):\n",
        "        self.products = {\n",
        "            'clothing': ['shirt', 'pants', 'dress', 'shoes'],\n",
        "            'electronics': ['phone', 'laptop', 'headphones', 'camera'],\n",
        "        }\n",
        "        self.cart = []\n",
        "\n",
        "    def start_conversation(self):\n",
        "        print(\"Welcome to the Online Shopping Assistant! How can I help you today?\")\n",
        "        while True:\n",
        "            user_input = input(\"You: \").lower()\n",
        "            response = self.process_input(user_input)\n",
        "            print(f\"Assistant: {response}\")\n",
        "\n",
        "    def process_input(self, user_input):\n",
        "        if \"buy\" in user_input or \"purchase\" in user_input:\n",
        "            return self.handle_purchase()\n",
        "        elif \"show\" in user_input or \"browse\" in user_input:\n",
        "            return self.handle_browsing(user_input)\n",
        "        elif \"cart\" in user_input:\n",
        "            return self.display_cart()\n",
        "        else:\n",
        "            return \"I'm sorry, I didn't understand that. Can you please rephrase?\"\n",
        "\n",
        "    def handle_browsing(self, user_input):\n",
        "        category = self.detect_category(user_input)\n",
        "        if category:\n",
        "            products = self.products.get(category, [])\n",
        "            if products:\n",
        "                return f\"Sure, here are some {category} available: {', '.join(products)}\"\n",
        "            else:\n",
        "                return f\"Sorry, no {category} available at the moment.\"\n",
        "        else:\n",
        "            return \"I couldn't determine the category. Please specify clothing or electronics.\"\n",
        "\n",
        "    def detect_category(self, user_input):\n",
        "        for category in self.products:\n",
        "            if category in user_input:\n",
        "                return category\n",
        "        return None\n",
        "\n",
        "    def handle_purchase(self):\n",
        "        if not self.cart:\n",
        "            return \"Your cart is empty. Add items to your cart first.\"\n",
        "        else:\n",
        "            total_price = random.randint(50, 500)\n",
        "            return f\"Great! Your total is ₹{total_price}. Proceed to checkout?\"\n",
        "\n",
        "    def display_cart(self):\n",
        "        if not self.cart:\n",
        "            return \"Your cart is empty.\"\n",
        "        else:\n",
        "            return f\"Items in your cart: {', '.join(self.cart)}\"\n",
        "\n",
        "if __name__ == \"__main__\":\n",
        "    shopping_assistant = ConversationalShoppingAssistant()\n",
        "    shopping_assistant.start_conversation()\n"
      ]
    }
  ],
  "metadata": {
    "colab": {
      "provenance": []
    },
    "kernelspec": {
      "display_name": "Python 3",
      "name": "python3"
    },
    "language_info": {
      "name": "python"
    }
  },
  "nbformat": 4,
  "nbformat_minor": 0
}